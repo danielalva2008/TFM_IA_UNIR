{
  "cells": [
    {
      "cell_type": "code",
      "execution_count": 1,
      "metadata": {
        "id": "ohgcRnYPDfms"
      },
      "outputs": [],
      "source": [
        "import numpy as np\n",
        "import os\n",
        "import matplotlib.pyplot as plt\n",
        "from skimage.transform import resize\n",
        "from skimage.io import imread\n",
        "\n",
        "import tensorflow as tf\n",
        "\n",
        "from sklearn.ensemble import StackingClassifier\n",
        "from sklearn.linear_model import LogisticRegression\n",
        "from sklearn.metrics import accuracy_score\n",
        "from keras.models import Sequential, Model\n",
        "from keras.layers import Conv2D, MaxPooling2D, Flatten, Dense, Input, GlobalAveragePooling2D, Lambda, Reshape, multiply\n",
        "from keras.layers import Activation, Dropout, BatchNormalization, AveragePooling2D\n",
        "from keras.optimizers import Adam\n",
        "from keras.applications import ResNet50\n",
        "from keras.utils import to_categorical\n",
        "from keras import backend as K\n",
        "from keras.layers import Layer\n",
        "from sklearn.model_selection import train_test_split\n",
        "\n",
        "from keras.optimizers import RMSprop,SGD\n",
        "from keras.regularizers import l2"
      ]
    },
    {
      "cell_type": "code",
      "execution_count": 2,
      "metadata": {
        "colab": {
          "base_uri": "https://localhost:8080/"
        },
        "id": "fh0KCvgiQ1CT",
        "outputId": "dfef60bb-9910-49e7-fb49-645568f732e4"
      },
      "outputs": [
        {
          "name": "stdout",
          "output_type": "stream",
          "text": [
            "Found GPU at: /device:GPU:0\n"
          ]
        }
      ],
      "source": [
        "device_name = tf.test.gpu_device_name()\n",
        "if device_name != '/device:GPU:0':\n",
        "    raise SystemError('GPU device not found')\n",
        "print('Found GPU at: {}'.format(device_name))"
      ]
    },
    {
      "cell_type": "code",
      "execution_count": 3,
      "metadata": {},
      "outputs": [
        {
          "data": {
            "text/plain": [
              "\"physical_devices = tf.config.experimental.list_physical_devices('GPU')\\nif len(physical_devices) > 0:\\n    tf.config.experimental.set_memory_growth(physical_devices[0], True)\""
            ]
          },
          "execution_count": 3,
          "metadata": {},
          "output_type": "execute_result"
        }
      ],
      "source": [
        "'''physical_devices = tf.config.experimental.list_physical_devices('GPU')\n",
        "if len(physical_devices) > 0:\n",
        "    tf.config.experimental.set_memory_growth(physical_devices[0], True)'''"
      ]
    },
    {
      "cell_type": "code",
      "execution_count": 4,
      "metadata": {
        "id": "lz9z4T5SDh_u"
      },
      "outputs": [],
      "source": [
        "#!unzip /content/AML.zip -d /content/"
      ]
    },
    {
      "cell_type": "code",
      "execution_count": 5,
      "metadata": {
        "id": "G4ZZ46SSpfph"
      },
      "outputs": [],
      "source": [
        "#!unzip /content/CALL.zip -d /content/"
      ]
    },
    {
      "cell_type": "code",
      "execution_count": 6,
      "metadata": {
        "id": "t67jv3cU3ZKs"
      },
      "outputs": [],
      "source": [
        "#!pip install imgaug"
      ]
    },
    {
      "cell_type": "code",
      "execution_count": 3,
      "metadata": {
        "colab": {
          "base_uri": "https://localhost:8080/"
        },
        "id": "Mhucg5QjDsJh",
        "outputId": "fb0163b4-eb0d-4b47-b177-953736b308c5"
      },
      "outputs": [
        {
          "name": "stdout",
          "output_type": "stream",
          "text": [
            "leyendo imagenes de  AML/AML1\n",
            "Directorios leídos: 9\n",
            "Imágenes en cada directorio: [360, 360, 360, 360, 360, 360, 360, 360, 360]\n",
            "Suma total de imágenes en subdirectorios: 3240\n"
          ]
        },
        {
          "data": {
            "text/plain": [
              "list"
            ]
          },
          "execution_count": 3,
          "metadata": {},
          "output_type": "execute_result"
        }
      ],
      "source": [
        "# Ruta de la carpeta de descargas\n",
        "# Directorio de descargas\n",
        "download_dir = os.path.expanduser(\"AML/AML1\")  # Ruta de la carpeta de descargas\n",
        "\n",
        "# Subdirectorios dentro de la carpeta de descargas\n",
        "#subdirs = [\"M0\", \"M1\", \"M2\", \"M3\", \"M4\"]\n",
        "subdirs = [\"all\", \"M1\", \"M2\", \"M3\", \"M4\", \"M5\", \"M6\", \"M7\", \"sanos\"]\n",
        "\n",
        "# Listas para almacenar imágenes y recuentos\n",
        "images = []\n",
        "directories = []\n",
        "dircount = []\n",
        "\n",
        "# Tamaño deseado de las imágenes redimensionadas\n",
        "target_height = 150 #108, 200\n",
        "target_width = 250  #160, 300\n",
        "\n",
        "print(\"leyendo imagenes de \",download_dir)\n",
        "\n",
        "# Recorrer cada subdirectorio\n",
        "for subdir in subdirs:\n",
        "    subdir_path = os.path.join(download_dir, subdir)\n",
        "    images_count = 0\n",
        "\n",
        "    # Recorrer archivos en el subdirectorio\n",
        "    for root, _, filenames in os.walk(subdir_path):\n",
        "        for filename in filenames:\n",
        "            if filename.lower().endswith(('.jpg', '.jpeg', '.png', '.bmp', '.tiff')):\n",
        "                filepath = os.path.join(root, filename)\n",
        "\n",
        "                # Leer y redimensionar la imagen\n",
        "                image = imread(filepath)\n",
        "                image_resized = resize(image, (target_height, target_width), anti_aliasing=True, preserve_range=True)\n",
        "                images.append(image_resized)\n",
        "                #images.append(image)\n",
        "\n",
        "                images_count += 1\n",
        "\n",
        "    # Almacenar recuento y directorio\n",
        "    dircount.append(images_count)\n",
        "    directories.append(subdir)\n",
        "\n",
        "# Mostrar estadísticas finales\n",
        "print('Directorios leídos:', len(directories))\n",
        "print(\"Imágenes en cada directorio:\", dircount)\n",
        "print('Suma total de imágenes en subdirectorios:', sum(dircount))\n",
        "\n",
        "# Convertir la lista de imágenes a un array de numpy\n",
        "#images_array = np.array(images)\n",
        "'''for i in range(len(images)):\n",
        "  images[i] = np.array(images[i], dtype=np.uint8)'''\n",
        "# Convertir las imágenes a RGB\n",
        "'''for i in range(len(images)):\n",
        "  images[i] = images[i][..., :3]\n",
        "'''\n",
        "type(images)"
      ]
    },
    {
      "cell_type": "code",
      "execution_count": 4,
      "metadata": {
        "colab": {
          "base_uri": "https://localhost:8080/",
          "height": 35
        },
        "id": "NEo9ygiL0c7I",
        "outputId": "6e8ae10a-a351-4237-c617-c5557fb2ccd9"
      },
      "outputs": [
        {
          "data": {
            "text/plain": [
              "'AML/AML1'"
            ]
          },
          "execution_count": 4,
          "metadata": {},
          "output_type": "execute_result"
        }
      ],
      "source": [
        "# Directorio que contiene las imágenes\n",
        "directorio_imagenes = os.path.expanduser(\"AML/AML1\")\n",
        "directorio_imagenes"
      ]
    },
    {
      "cell_type": "markdown",
      "metadata": {
        "id": "7dZgms5W3RFb"
      },
      "source": [
        "# Nueva sección\n",
        "\n",
        "---\n",
        "\n"
      ]
    },
    {
      "cell_type": "code",
      "execution_count": 5,
      "metadata": {
        "colab": {
          "base_uri": "https://localhost:8080/"
        },
        "id": "g5YIhO_4Dw-R",
        "outputId": "2c1775dd-77f1-4f3c-d0a9-c2ad5f93f0d2"
      },
      "outputs": [
        {
          "name": "stdout",
          "output_type": "stream",
          "text": [
            "Cantidad de etiquetas creadas:  3240\n"
          ]
        }
      ],
      "source": [
        "labels = []\n",
        "indice = 0\n",
        "for cantidad in dircount:\n",
        "  for i in range(cantidad):\n",
        "    labels.append(indice)\n",
        "  indice = indice + 1\n",
        "print(\"Cantidad de etiquetas creadas: \", len(labels))"
      ]
    },
    {
      "cell_type": "code",
      "execution_count": 6,
      "metadata": {
        "colab": {
          "base_uri": "https://localhost:8080/"
        },
        "id": "3jYjrTBaD1My",
        "outputId": "78d37cd1-d1db-4ad3-b6a3-1b6b274b5bd6"
      },
      "outputs": [
        {
          "name": "stdout",
          "output_type": "stream",
          "text": [
            "0 all\n",
            "1 M1\n",
            "2 M2\n",
            "3 M3\n",
            "4 M4\n",
            "5 M5\n",
            "6 M6\n",
            "7 M7\n",
            "8 sanos\n"
          ]
        }
      ],
      "source": [
        "AMLI=[]\n",
        "indice=0\n",
        "for directorio in directories:\n",
        "    name = directorio.split(os.sep)\n",
        "    print(indice , name[len(name)-1])\n",
        "    AMLI.append(name[len(name)-1])\n",
        "    indice=indice+1"
      ]
    },
    {
      "cell_type": "code",
      "execution_count": 7,
      "metadata": {
        "colab": {
          "base_uri": "https://localhost:8080/"
        },
        "id": "ZkGpN5QQD1yP",
        "outputId": "4177a290-0ada-49a6-e413-b7897ba38f44"
      },
      "outputs": [
        {
          "data": {
            "text/plain": [
              "list"
            ]
          },
          "execution_count": 7,
          "metadata": {},
          "output_type": "execute_result"
        }
      ],
      "source": [
        "type(AMLI)"
      ]
    },
    {
      "cell_type": "code",
      "execution_count": 8,
      "metadata": {
        "colab": {
          "base_uri": "https://localhost:8080/"
        },
        "id": "BrxXspo2D3kN",
        "outputId": "47ba61a7-0bcb-47ed-aede-f286f8d60775"
      },
      "outputs": [
        {
          "data": {
            "text/plain": [
              "['all', 'M1', 'M2', 'M3', 'M4', 'M5', 'M6', 'M7', 'sanos']"
            ]
          },
          "execution_count": 8,
          "metadata": {},
          "output_type": "execute_result"
        }
      ],
      "source": [
        "AMLI"
      ]
    },
    {
      "cell_type": "code",
      "execution_count": 13,
      "metadata": {
        "id": "rGyIYoXID6fC"
      },
      "outputs": [],
      "source": [
        "#for img in images:\n",
        "    #print(img.shape)"
      ]
    },
    {
      "cell_type": "code",
      "execution_count": 9,
      "metadata": {
        "colab": {
          "base_uri": "https://localhost:8080/"
        },
        "id": "8StK0v7GD_gG",
        "outputId": "787fc6d7-eefd-45ea-e548-65e91c23c23e"
      },
      "outputs": [
        {
          "name": "stdout",
          "output_type": "stream",
          "text": [
            "Total number of outputs :  9\n",
            "Output classes :  [0 1 2 3 4 5 6 7 8]\n"
          ]
        },
        {
          "data": {
            "text/plain": [
              "numpy.ndarray"
            ]
          },
          "execution_count": 9,
          "metadata": {},
          "output_type": "execute_result"
        }
      ],
      "source": [
        "y = np.array(labels)\n",
        "#X = images\n",
        "X = np.array(images, dtype=np.uint8) #convierto de lista a numpy\n",
        "\n",
        "# Find the unique numbers from the train labels\n",
        "classes = np.unique(y)\n",
        "nClasses = len(classes)\n",
        "print('Total number of outputs : ', nClasses)\n",
        "print('Output classes : ', classes)\n",
        "type(X)"
      ]
    },
    {
      "cell_type": "code",
      "execution_count": 10,
      "metadata": {
        "colab": {
          "base_uri": "https://localhost:8080/"
        },
        "id": "NV8ofhX1EEE4",
        "outputId": "df8f2d77-6463-45ce-ab0a-bda1d8124de5"
      },
      "outputs": [
        {
          "name": "stdout",
          "output_type": "stream",
          "text": [
            "Training data shape :  (2592, 150, 250, 3) (2592,)\n",
            "Testing data shape :  (648, 150, 250, 3) (648,)\n",
            "(150, 250, 3)\n"
          ]
        }
      ],
      "source": [
        "# Dividir los datos en conjuntos de entrenamiento y prueba\n",
        "X_train, X_test, y_train, y_test = train_test_split(X, y, test_size=0.2, random_state=42)\n",
        "\n",
        "# Convertir listas a arrays NumPy\n",
        "#X_train = np.array(X_train)\n",
        "#X_test = np.array(X_test)\n",
        "\n",
        "# Normalizamos como float32 para poder dividirlos entre 0 y 1\n",
        "X_train = X_train.astype('float32')\n",
        "X_test = X_test.astype('float32')\n",
        "\n",
        "# Valores entre 0..1\n",
        "X_train /= 255\n",
        "X_test /= 255\n",
        "\n",
        "print('Training data shape : ', X_train.shape, y_train.shape)\n",
        "print('Testing data shape : ', X_test.shape, y_test.shape)\n",
        "\n",
        "img_size = X[0].shape\n",
        "print(img_size)"
      ]
    },
    {
      "cell_type": "code",
      "execution_count": 11,
      "metadata": {
        "id": "RFPqepCgYt2t"
      },
      "outputs": [],
      "source": [
        "from keras.utils import to_categorical\n",
        "\n",
        "# Codificar las etiquetas\n",
        "y_train_encoded = to_categorical(y_train, num_classes=nClasses)\n",
        "y_test_encoded = to_categorical(y_test, num_classes=nClasses)"
      ]
    },
    {
      "cell_type": "markdown",
      "metadata": {
        "id": "OUTp_jLP4LKU"
      },
      "source": [
        "# Modelos\n",
        "\n",
        "\n",
        "---\n",
        "\n"
      ]
    },
    {
      "cell_type": "code",
      "execution_count": 12,
      "metadata": {
        "id": "Tfqxohj17z7x"
      },
      "outputs": [],
      "source": [
        "#AlexNet\n",
        "AlexNet_model = Sequential()\n",
        "\n",
        "# Layer 1: Convolutional layer with 64 filters of size 11x11x3\n",
        "AlexNet_model.add(Conv2D(filters=64, kernel_size=(11,11), strides=(4,4), padding='valid', activation='relu', input_shape=img_size))\n",
        "\n",
        "# Layer 2: Max pooling layer with pool size of 3x3\n",
        "AlexNet_model.add(MaxPooling2D(pool_size=(3,3), strides=(2,2)))\n",
        "\n",
        "# Layer 3-5: 3 more convolutional layers with similar structure as Layer 1\n",
        "AlexNet_model.add(Conv2D(filters=192, kernel_size=(5,5), padding='same', activation='relu'))\n",
        "AlexNet_model.add(MaxPooling2D(pool_size=(3,3), strides=(2,2)))\n",
        "AlexNet_model.add(Conv2D(filters=384, kernel_size=(3,3), padding='same', activation='relu'))\n",
        "AlexNet_model.add(Conv2D(filters=256, kernel_size=(3,3), padding='same', activation='relu'))\n",
        "AlexNet_model.add(MaxPooling2D(pool_size=(3,3), strides=(2,2)))\n",
        "\n",
        "# Layer 6: Fully connected layer with 4096 neurons\n",
        "AlexNet_model.add(Flatten())\n",
        "AlexNet_model.add(Dense(4096, activation='relu'))\n",
        "\n",
        "# Layer 7: Fully connected layer with 4096 neurons\n",
        "AlexNet_model.add(Dense(4096, activation='relu'))\n",
        "AlexNet_model.add(Dense(nClasses, activation='softmax'))\n",
        "\n"
      ]
    },
    {
      "cell_type": "code",
      "execution_count": 18,
      "metadata": {
        "id": "Gvs_H5WFAxvW"
      },
      "outputs": [
        {
          "data": {
            "text/plain": [
              "'initial_learning_rate = 0.0001\\nlr_schedule = tf.keras.optimizers.schedules.ExponentialDecay(\\n    initial_learning_rate, decay_steps=100000, decay_rate=0.96, staircase=True\\n)\\n\\n# Define optimizer using the learning rate schedule\\noptimizer = RMSprop(learning_rate=lr_schedule)'"
            ]
          },
          "execution_count": 18,
          "metadata": {},
          "output_type": "execute_result"
        }
      ],
      "source": [
        "'''initial_learning_rate = 0.0001\n",
        "lr_schedule = tf.keras.optimizers.schedules.ExponentialDecay(\n",
        "    initial_learning_rate, decay_steps=100000, decay_rate=0.96, staircase=True\n",
        ")\n",
        "\n",
        "# Define optimizer using the learning rate schedule\n",
        "optimizer = RMSprop(learning_rate=lr_schedule)'''"
      ]
    },
    {
      "cell_type": "code",
      "execution_count": 13,
      "metadata": {},
      "outputs": [],
      "source": [
        "epochs1 = 19\n",
        "batch_size1 = 32\n",
        "train_size1 =2592\n",
        "\n",
        "initial_learning_rate1 = 0.0001\n",
        "final_learning_rate1 = 0.00001\n",
        "learning_rate_decay_factor1 = (final_learning_rate1 / initial_learning_rate1)**(1/epochs1)\n",
        "steps_per_epoch1 = int(train_size1/batch_size1)\n",
        "\n",
        "lr_schedule1 = tf.keras.optimizers.schedules.ExponentialDecay(\n",
        "                initial_learning_rate=initial_learning_rate1,\n",
        "                decay_steps=steps_per_epoch1,\n",
        "                decay_rate=learning_rate_decay_factor1,\n",
        "                staircase=True)\n",
        "# Define optimizer using the learning rate schedule\n",
        "optimizer1 = RMSprop(learning_rate=lr_schedule1)"
      ]
    },
    {
      "cell_type": "code",
      "execution_count": null,
      "metadata": {
        "id": "Lb3Ce9nx9y6l"
      },
      "outputs": [],
      "source": [
        "AlexNet_model.compile(optimizer=optimizer1, loss='categorical_crossentropy', metrics=['accuracy'])"
      ]
    },
    {
      "cell_type": "code",
      "execution_count": 21,
      "metadata": {
        "id": "qPfSxT5x92JI"
      },
      "outputs": [
        {
          "name": "stdout",
          "output_type": "stream",
          "text": [
            "Epoch 1/19\n",
            "81/81 [==============================] - 9s 77ms/step - loss: 2.0472 - accuracy: 0.2064 - val_loss: 1.7172 - val_accuracy: 0.2932\n",
            "Epoch 2/19\n",
            "81/81 [==============================] - 5s 62ms/step - loss: 1.7788 - accuracy: 0.3079 - val_loss: 1.6400 - val_accuracy: 0.3935\n",
            "Epoch 3/19\n",
            "81/81 [==============================] - 5s 59ms/step - loss: 1.6208 - accuracy: 0.3831 - val_loss: 1.8101 - val_accuracy: 0.3256\n",
            "Epoch 4/19\n",
            "81/81 [==============================] - 5s 60ms/step - loss: 1.4749 - accuracy: 0.4448 - val_loss: 1.6408 - val_accuracy: 0.4043\n",
            "Epoch 5/19\n",
            "81/81 [==============================] - 5s 60ms/step - loss: 1.3342 - accuracy: 0.5069 - val_loss: 1.1942 - val_accuracy: 0.5679\n",
            "Epoch 6/19\n",
            "81/81 [==============================] - 5s 60ms/step - loss: 1.1628 - accuracy: 0.5694 - val_loss: 1.1467 - val_accuracy: 0.5833\n",
            "Epoch 7/19\n",
            "81/81 [==============================] - 5s 60ms/step - loss: 1.0460 - accuracy: 0.6250 - val_loss: 0.9771 - val_accuracy: 0.6188\n",
            "Epoch 8/19\n",
            "81/81 [==============================] - 5s 60ms/step - loss: 0.8886 - accuracy: 0.6887 - val_loss: 0.9758 - val_accuracy: 0.6466\n",
            "Epoch 9/19\n",
            "81/81 [==============================] - 5s 60ms/step - loss: 0.7619 - accuracy: 0.7396 - val_loss: 0.7700 - val_accuracy: 0.7377\n",
            "Epoch 10/19\n",
            "81/81 [==============================] - 5s 61ms/step - loss: 0.6223 - accuracy: 0.7909 - val_loss: 0.9660 - val_accuracy: 0.6373\n",
            "Epoch 11/19\n",
            "81/81 [==============================] - 5s 61ms/step - loss: 0.5247 - accuracy: 0.8237 - val_loss: 0.6722 - val_accuracy: 0.7778\n",
            "Epoch 12/19\n",
            "81/81 [==============================] - 5s 61ms/step - loss: 0.4319 - accuracy: 0.8615 - val_loss: 0.6716 - val_accuracy: 0.7670\n",
            "Epoch 13/19\n",
            "81/81 [==============================] - 5s 61ms/step - loss: 0.3521 - accuracy: 0.8974 - val_loss: 0.7125 - val_accuracy: 0.7870\n",
            "Epoch 14/19\n",
            "81/81 [==============================] - 5s 60ms/step - loss: 0.2939 - accuracy: 0.9147 - val_loss: 0.5500 - val_accuracy: 0.8210\n",
            "Epoch 15/19\n",
            "81/81 [==============================] - 5s 60ms/step - loss: 0.2416 - accuracy: 0.9294 - val_loss: 0.4936 - val_accuracy: 0.8395\n",
            "Epoch 16/19\n",
            "81/81 [==============================] - 5s 60ms/step - loss: 0.2004 - accuracy: 0.9464 - val_loss: 0.5861 - val_accuracy: 0.8056\n",
            "Epoch 17/19\n",
            "81/81 [==============================] - 5s 60ms/step - loss: 0.1642 - accuracy: 0.9606 - val_loss: 0.5913 - val_accuracy: 0.8179\n",
            "Epoch 18/19\n",
            "81/81 [==============================] - 5s 60ms/step - loss: 0.1373 - accuracy: 0.9688 - val_loss: 0.4940 - val_accuracy: 0.8179\n",
            "Epoch 19/19\n",
            "81/81 [==============================] - 5s 60ms/step - loss: 0.1092 - accuracy: 0.9753 - val_loss: 0.5765 - val_accuracy: 0.8364\n"
          ]
        },
        {
          "data": {
            "text/plain": [
              "<keras.callbacks.History at 0x13e8017aa10>"
            ]
          },
          "execution_count": 21,
          "metadata": {},
          "output_type": "execute_result"
        }
      ],
      "source": [
        "AlexNet_model.fit(X_train, y_train_encoded, epochs=epochs1, batch_size=batch_size1, validation_data=(X_test, y_test_encoded))"
      ]
    },
    {
      "cell_type": "code",
      "execution_count": null,
      "metadata": {},
      "outputs": [],
      "source": [
        "AlexNet_model.save('AlexNet_model.h5')"
      ]
    }
  ],
  "metadata": {
    "accelerator": "GPU",
    "colab": {
      "gpuType": "T4",
      "provenance": []
    },
    "kernelspec": {
      "display_name": "Python 3",
      "name": "python3"
    },
    "language_info": {
      "codemirror_mode": {
        "name": "ipython",
        "version": 3
      },
      "file_extension": ".py",
      "mimetype": "text/x-python",
      "name": "python",
      "nbconvert_exporter": "python",
      "pygments_lexer": "ipython3",
      "version": "3.10.0"
    }
  },
  "nbformat": 4,
  "nbformat_minor": 0
}
