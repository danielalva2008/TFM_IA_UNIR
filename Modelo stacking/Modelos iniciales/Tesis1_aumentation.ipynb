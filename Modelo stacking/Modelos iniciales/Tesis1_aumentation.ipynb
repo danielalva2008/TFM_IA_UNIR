{
  "cells": [
    {
      "cell_type": "code",
      "execution_count": 1,
      "metadata": {
        "id": "ohgcRnYPDfms"
      },
      "outputs": [],
      "source": [
        "import numpy as np\n",
        "import os\n",
        "import matplotlib.pyplot as plt\n",
        "from skimage.transform import resize\n",
        "from skimage.io import imread\n",
        "\n",
        "import tensorflow as tf\n",
        "\n",
        "from sklearn.ensemble import StackingClassifier\n",
        "from sklearn.linear_model import LogisticRegression\n",
        "from sklearn.metrics import accuracy_score\n",
        "from keras.models import Sequential, Model\n",
        "from keras.layers import Conv2D, MaxPooling2D, Flatten, Dense, Input, GlobalAveragePooling2D, Lambda, Reshape, multiply\n",
        "from keras.layers import Activation, Dropout, BatchNormalization, AveragePooling2D\n",
        "from keras.optimizers import Adam\n",
        "from keras.applications import ResNet50\n",
        "from keras.utils import to_categorical\n",
        "from keras import backend as K\n",
        "from keras.layers import Layer\n",
        "from sklearn.model_selection import train_test_split\n",
        "\n",
        "from keras.optimizers import RMSprop,SGD\n",
        "from keras.regularizers import l2"
      ]
    },
    {
      "cell_type": "code",
      "execution_count": 2,
      "metadata": {
        "colab": {
          "base_uri": "https://localhost:8080/"
        },
        "id": "fh0KCvgiQ1CT",
        "outputId": "dfef60bb-9910-49e7-fb49-645568f732e4"
      },
      "outputs": [
        {
          "name": "stdout",
          "output_type": "stream",
          "text": [
            "Found GPU at: /device:GPU:0\n"
          ]
        }
      ],
      "source": [
        "device_name = tf.test.gpu_device_name()\n",
        "if device_name != '/device:GPU:0':\n",
        "    raise SystemError('GPU device not found')\n",
        "print('Found GPU at: {}'.format(device_name))"
      ]
    },
    {
      "cell_type": "code",
      "execution_count": 3,
      "metadata": {},
      "outputs": [
        {
          "data": {
            "text/plain": [
              "\"physical_devices = tf.config.experimental.list_physical_devices('GPU')\\nif len(physical_devices) > 0:\\n    tf.config.experimental.set_memory_growth(physical_devices[0], True)\""
            ]
          },
          "execution_count": 3,
          "metadata": {},
          "output_type": "execute_result"
        }
      ],
      "source": [
        "'''physical_devices = tf.config.experimental.list_physical_devices('GPU')\n",
        "if len(physical_devices) > 0:\n",
        "    tf.config.experimental.set_memory_growth(physical_devices[0], True)'''"
      ]
    },
    {
      "cell_type": "code",
      "execution_count": 4,
      "metadata": {
        "id": "lz9z4T5SDh_u"
      },
      "outputs": [],
      "source": [
        "#!unzip /content/AML.zip -d /content/"
      ]
    },
    {
      "cell_type": "code",
      "execution_count": 5,
      "metadata": {
        "id": "G4ZZ46SSpfph"
      },
      "outputs": [],
      "source": [
        "#!unzip /content/CALL.zip -d /content/"
      ]
    },
    {
      "cell_type": "code",
      "execution_count": 6,
      "metadata": {
        "id": "t67jv3cU3ZKs"
      },
      "outputs": [],
      "source": [
        "#!pip install imgaug"
      ]
    },
    {
      "cell_type": "code",
      "execution_count": 2,
      "metadata": {
        "colab": {
          "base_uri": "https://localhost:8080/",
          "height": 139
        },
        "id": "rCLO5nFT3gGl",
        "outputId": "6d942b01-6aed-467b-8be7-c21efc8ae7af"
      },
      "outputs": [
        {
          "name": "stdout",
          "output_type": "stream",
          "text": [
            "Leyendo imágenes de AML\n",
            "Directorios leídos: 9\n",
            "Imágenes en cada directorio: [40, 40, 40, 40, 40, 40, 40, 40, 40]\n",
            "Suma total de imágenes en subdirectorios: 360\n"
          ]
        }
      ],
      "source": [
        "import os\n",
        "from PIL import Image\n",
        "import numpy as np\n",
        "import imgaug.augmenters as iaa\n",
        "\n",
        "# Ruta de la carpeta de descargas\n",
        "download_dir = os.path.expanduser(\"AML\")  # Ruta de la carpeta de descargas\n",
        "\n",
        "# Subdirectorios dentro de la carpeta de descargas\n",
        "subdirs = [\"all\", \"M1\", \"M2\", \"M3\", \"M4\", \"M5\", \"M6\", \"M7\", \"sanos\"]\n",
        "\n",
        "# Carpeta para guardar imágenes aumentadas\n",
        "output_dir_base = os.path.join(download_dir, \"AML1\")\n",
        "os.makedirs(output_dir_base, exist_ok=True)\n",
        "\n",
        "# Configuración de aumentadores\n",
        "seq_gaussian_noise = iaa.Sequential([iaa.AdditiveGaussianNoise(scale=(0, 0.2*255))])\n",
        "seq_brightness = iaa.Sequential([iaa.Multiply((1.2, 1.5))])\n",
        "seq_rotation = iaa.Sequential([iaa.Affine(rotate=25)])\n",
        "seq_grayscale = iaa.Sequential([iaa.Grayscale(alpha=(0.0, 1.0))])\n",
        "seq_horizontal_flip = iaa.Sequential([iaa.Fliplr(1.0)])\n",
        "seq_vertical_flip = iaa.Sequential([iaa.Flipud(1.0)])\n",
        "seq_shear = iaa.Sequential([iaa.Affine(shear=(-25, 25))])\n",
        "seq_zoom = iaa.Sequential([iaa.Affine(scale=(1.5, 1.5))])\n",
        "\n",
        "# Listas para almacenar imágenes y recuentos\n",
        "directories = []\n",
        "dircount = []\n",
        "\n",
        "print(\"Leyendo imágenes de\", download_dir)\n",
        "\n",
        "# Recorrer cada subdirectorio\n",
        "for subdir in subdirs:\n",
        "    subdir_path = os.path.join(download_dir, subdir)\n",
        "    output_dir = os.path.join(output_dir_base, subdir)\n",
        "    os.makedirs(output_dir, exist_ok=True)  # Create subdirectory if it doesn't exist\n",
        "    images_count = 0\n",
        "\n",
        "    # Recorrer archivos en el subdirectorio\n",
        "    for root, _, filenames in os.walk(subdir_path):\n",
        "        for filename in filenames:\n",
        "            if filename.lower().endswith(('.jpg', '.jpeg', '.png', '.bmp', '.tiff')):\n",
        "                filepath = os.path.join(root, filename)\n",
        "\n",
        "                # Leer la imagen y convertirla a array de numpy\n",
        "                image = np.array(Image.open(filepath))\n",
        "\n",
        "                # Guardar la imagen original en el mismo subdirectorio\n",
        "                output_path_original = os.path.join(output_dir, filename[:-4] + \"_original.jpg\")\n",
        "                Image.fromarray(image).convert(\"RGB\").save(output_path_original)\n",
        "\n",
        "                # Aplicar ruido gaussiano\n",
        "                image_gaussian = seq_gaussian_noise.augment_image(image)\n",
        "                output_path_gaussian = os.path.join(output_dir, filename[:-4] + \"_g.jpg\")\n",
        "                Image.fromarray(image_gaussian).convert(\"RGB\").save(output_path_gaussian)\n",
        "\n",
        "                # Aplicar aumento de brillo\n",
        "                image_brightness = seq_brightness.augment_image(image)\n",
        "                output_path_brightness = os.path.join(output_dir, filename[:-4] + \"_b.jpg\")\n",
        "                Image.fromarray(image_brightness).convert(\"RGB\").save(output_path_brightness)\n",
        "\n",
        "                # Aplicar rotación a la izquierda de 90 grados\n",
        "                image_rotation = seq_rotation.augment_image(image)\n",
        "                output_path_rotation = os.path.join(output_dir, filename[:-4] + \"_r.jpg\")\n",
        "                Image.fromarray(image_rotation).convert(\"RGB\").save(output_path_rotation)\n",
        "\n",
        "                # Convertir la imagen a formato RGB antes de aplicar grayscaling\n",
        "                image_rgb = Image.fromarray(image).convert(\"RGB\")\n",
        "                image_grayscale = seq_grayscale.augment_image(np.array(image_rgb))\n",
        "\n",
        "                # Guardar la imagen grayscaled en el mismo subdirectorio\n",
        "                output_path_grayscale = os.path.join(output_dir, filename[:-4] + \"_gray.jpg\")\n",
        "                Image.fromarray(image_grayscale).save(output_path_grayscale)\n",
        "\n",
        "                # Aplicar reflexión horizontal\n",
        "                image_horizontal_flip = seq_horizontal_flip.augment_image(image)\n",
        "                output_path_hflip = os.path.join(output_dir, filename[:-4] + \"_hflip.jpg\")\n",
        "                Image.fromarray(image_horizontal_flip).convert(\"RGB\").save(output_path_hflip)\n",
        "\n",
        "                # Aplicar reflexión vertical\n",
        "                image_vertical_flip = seq_vertical_flip.augment_image(image)\n",
        "                output_path_vflip = os.path.join(output_dir, filename[:-4] + \"_vflip.jpg\")\n",
        "                Image.fromarray(image_vertical_flip).convert(\"RGB\").save(output_path_vflip)\n",
        "\n",
        "                # Aplicar shearing\n",
        "                image_shear = seq_shear.augment_image(image)\n",
        "                output_path_shear = os.path.join(output_dir, filename[:-4] + \"_shear.jpg\")\n",
        "                Image.fromarray(image_shear).convert(\"RGB\").save(output_path_shear)\n",
        "\n",
        "                # Aplicar zoom con un factor de 0.2\n",
        "                image_zoom = seq_zoom.augment_image(image)\n",
        "                output_path_zoom = os.path.join(output_dir, filename[:-4] + \"_zoom.jpg\")\n",
        "                Image.fromarray(image_zoom).convert(\"RGB\").save(output_path_zoom)\n",
        "\n",
        "                images_count += 1\n",
        "\n",
        "    # Almacenar recuento y directorio\n",
        "    dircount.append(images_count)\n",
        "    directories.append(subdir)\n",
        "\n",
        "# Mostrar estadísticas finales\n",
        "print('Directorios leídos:', len(directories))\n",
        "print(\"Imágenes en cada directorio:\", dircount)\n",
        "print('Suma total de imágenes en subdirectorios:', sum(dircount))"
      ]
    },
    {
      "cell_type": "code",
      "execution_count": 8,
      "metadata": {
        "colab": {
          "base_uri": "https://localhost:8080/"
        },
        "id": "Mhucg5QjDsJh",
        "outputId": "fb0163b4-eb0d-4b47-b177-953736b308c5"
      },
      "outputs": [
        {
          "name": "stdout",
          "output_type": "stream",
          "text": [
            "leyendo imagenes de  AML/AML1\n"
          ]
        },
        {
          "name": "stdout",
          "output_type": "stream",
          "text": [
            "Directorios leídos: 7\n",
            "Imágenes en cada directorio: [360, 360, 360, 360, 360, 360, 360]\n",
            "Suma total de imágenes en subdirectorios: 2520\n"
          ]
        },
        {
          "data": {
            "text/plain": [
              "list"
            ]
          },
          "execution_count": 8,
          "metadata": {},
          "output_type": "execute_result"
        }
      ],
      "source": [
        "# Ruta de la carpeta de descargas\n",
        "# Directorio de descargas\n",
        "download_dir = os.path.expanduser(\"AML/AML1\")  # Ruta de la carpeta de descargas\n",
        "\n",
        "# Subdirectorios dentro de la carpeta de descargas\n",
        "#subdirs = [\"M0\", \"M1\", \"M2\", \"M3\", \"M4\"]\n",
        "subdirs = [\"all\", \"M1\", \"M2\", \"M3\", \"M4\", \"M5\", \"M6\", \"M7\", \"sanos\"]\n",
        "\n",
        "# Listas para almacenar imágenes y recuentos\n",
        "images = []\n",
        "directories = []\n",
        "dircount = []\n",
        "\n",
        "# Tamaño deseado de las imágenes redimensionadas\n",
        "target_height = 150 #108, 200\n",
        "target_width = 250  #160, 300\n",
        "\n",
        "print(\"leyendo imagenes de \",download_dir)\n",
        "\n",
        "# Recorrer cada subdirectorio\n",
        "for subdir in subdirs:\n",
        "    subdir_path = os.path.join(download_dir, subdir)\n",
        "    images_count = 0\n",
        "\n",
        "    # Recorrer archivos en el subdirectorio\n",
        "    for root, _, filenames in os.walk(subdir_path):\n",
        "        for filename in filenames:\n",
        "            if filename.lower().endswith(('.jpg', '.jpeg', '.png', '.bmp', '.tiff')):\n",
        "                filepath = os.path.join(root, filename)\n",
        "\n",
        "                # Leer y redimensionar la imagen\n",
        "                image = imread(filepath)\n",
        "                image_resized = resize(image, (target_height, target_width), anti_aliasing=True, preserve_range=True)\n",
        "                images.append(image_resized)\n",
        "                #images.append(image)\n",
        "\n",
        "                images_count += 1\n",
        "\n",
        "    # Almacenar recuento y directorio\n",
        "    dircount.append(images_count)\n",
        "    directories.append(subdir)\n",
        "\n",
        "# Mostrar estadísticas finales\n",
        "print('Directorios leídos:', len(directories))\n",
        "print(\"Imágenes en cada directorio:\", dircount)\n",
        "print('Suma total de imágenes en subdirectorios:', sum(dircount))\n",
        "\n",
        "# Convertir la lista de imágenes a un array de numpy\n",
        "#images_array = np.array(images)\n",
        "'''for i in range(len(images)):\n",
        "  images[i] = np.array(images[i], dtype=np.uint8)'''\n",
        "# Convertir las imágenes a RGB\n",
        "'''for i in range(len(images)):\n",
        "  images[i] = images[i][..., :3]\n",
        "'''\n",
        "type(images)"
      ]
    },
    {
      "cell_type": "code",
      "execution_count": 9,
      "metadata": {
        "colab": {
          "base_uri": "https://localhost:8080/",
          "height": 35
        },
        "id": "NEo9ygiL0c7I",
        "outputId": "6e8ae10a-a351-4237-c617-c5557fb2ccd9"
      },
      "outputs": [
        {
          "data": {
            "text/plain": [
              "'AML/AML1'"
            ]
          },
          "execution_count": 9,
          "metadata": {},
          "output_type": "execute_result"
        }
      ],
      "source": [
        "# Directorio que contiene las imágenes\n",
        "directorio_imagenes = os.path.expanduser(\"AML/AML1\")\n",
        "directorio_imagenes"
      ]
    },
    {
      "cell_type": "markdown",
      "metadata": {
        "id": "7dZgms5W3RFb"
      },
      "source": [
        "# Nueva sección\n",
        "\n",
        "---\n",
        "\n"
      ]
    },
    {
      "cell_type": "code",
      "execution_count": 10,
      "metadata": {
        "colab": {
          "base_uri": "https://localhost:8080/"
        },
        "id": "g5YIhO_4Dw-R",
        "outputId": "2c1775dd-77f1-4f3c-d0a9-c2ad5f93f0d2"
      },
      "outputs": [
        {
          "name": "stdout",
          "output_type": "stream",
          "text": [
            "Cantidad de etiquetas creadas:  2520\n"
          ]
        }
      ],
      "source": [
        "labels = []\n",
        "indice = 0\n",
        "for cantidad in dircount:\n",
        "  for i in range(cantidad):\n",
        "    labels.append(indice)\n",
        "  indice = indice + 1\n",
        "print(\"Cantidad de etiquetas creadas: \", len(labels))"
      ]
    },
    {
      "cell_type": "code",
      "execution_count": 11,
      "metadata": {
        "colab": {
          "base_uri": "https://localhost:8080/"
        },
        "id": "3jYjrTBaD1My",
        "outputId": "78d37cd1-d1db-4ad3-b6a3-1b6b274b5bd6"
      },
      "outputs": [
        {
          "name": "stdout",
          "output_type": "stream",
          "text": [
            "0 M1\n",
            "1 M2\n",
            "2 M3\n",
            "3 M4\n",
            "4 M5\n",
            "5 M6\n",
            "6 M7\n"
          ]
        }
      ],
      "source": [
        "AMLI=[]\n",
        "indice=0\n",
        "for directorio in directories:\n",
        "    name = directorio.split(os.sep)\n",
        "    print(indice , name[len(name)-1])\n",
        "    AMLI.append(name[len(name)-1])\n",
        "    indice=indice+1"
      ]
    },
    {
      "cell_type": "code",
      "execution_count": 12,
      "metadata": {
        "colab": {
          "base_uri": "https://localhost:8080/"
        },
        "id": "ZkGpN5QQD1yP",
        "outputId": "4177a290-0ada-49a6-e413-b7897ba38f44"
      },
      "outputs": [
        {
          "data": {
            "text/plain": [
              "list"
            ]
          },
          "execution_count": 12,
          "metadata": {},
          "output_type": "execute_result"
        }
      ],
      "source": [
        "type(AMLI)"
      ]
    },
    {
      "cell_type": "code",
      "execution_count": 13,
      "metadata": {
        "colab": {
          "base_uri": "https://localhost:8080/"
        },
        "id": "BrxXspo2D3kN",
        "outputId": "47ba61a7-0bcb-47ed-aede-f286f8d60775"
      },
      "outputs": [
        {
          "data": {
            "text/plain": [
              "['M1', 'M2', 'M3', 'M4', 'M5', 'M6', 'M7']"
            ]
          },
          "execution_count": 13,
          "metadata": {},
          "output_type": "execute_result"
        }
      ],
      "source": [
        "AMLI"
      ]
    },
    {
      "cell_type": "code",
      "execution_count": 14,
      "metadata": {
        "id": "rGyIYoXID6fC"
      },
      "outputs": [],
      "source": [
        "#for img in images:\n",
        "    #print(img.shape)"
      ]
    },
    {
      "cell_type": "code",
      "execution_count": 15,
      "metadata": {
        "colab": {
          "base_uri": "https://localhost:8080/"
        },
        "id": "8StK0v7GD_gG",
        "outputId": "787fc6d7-eefd-45ea-e548-65e91c23c23e"
      },
      "outputs": [
        {
          "name": "stdout",
          "output_type": "stream",
          "text": [
            "Total number of outputs :  7\n",
            "Output classes :  [0 1 2 3 4 5 6]\n"
          ]
        },
        {
          "data": {
            "text/plain": [
              "numpy.ndarray"
            ]
          },
          "execution_count": 15,
          "metadata": {},
          "output_type": "execute_result"
        }
      ],
      "source": [
        "y = np.array(labels)\n",
        "#X = images\n",
        "X = np.array(images, dtype=np.uint8) #convierto de lista a numpy\n",
        "\n",
        "# Find the unique numbers from the train labels\n",
        "classes = np.unique(y)\n",
        "nClasses = len(classes)\n",
        "print('Total number of outputs : ', nClasses)\n",
        "print('Output classes : ', classes)\n",
        "type(X)"
      ]
    },
    {
      "cell_type": "code",
      "execution_count": 16,
      "metadata": {
        "colab": {
          "base_uri": "https://localhost:8080/",
          "height": 70
        },
        "id": "7yzw0mH2f6LJ",
        "outputId": "4e8312e0-16cf-41f3-c930-e6aeb2739dc3"
      },
      "outputs": [
        {
          "data": {
            "text/plain": [
              "'print(y[0])\\nplt.imshow(X[0])\\nplt.show()\\nprint(y[1])\\nplt.imshow(X[1])\\nplt.show()\\nprint(y[2])\\nplt.imshow(X[2])\\nplt.show()\\nprint(y[3])\\nplt.imshow(X[3])\\nplt.show()\\nprint(y[4])\\nplt.imshow(X[4])\\nplt.show()\\nprint(y[5])\\nplt.imshow(X[5])\\nplt.show()\\nprint(y[6])\\nplt.imshow(X[6])\\nplt.show()\\nprint(y[7])\\nplt.imshow(X[7])\\nplt.show()'"
            ]
          },
          "execution_count": 16,
          "metadata": {},
          "output_type": "execute_result"
        }
      ],
      "source": [
        "'''print(y[0])\n",
        "plt.imshow(X[0])\n",
        "plt.show()\n",
        "print(y[1])\n",
        "plt.imshow(X[1])\n",
        "plt.show()\n",
        "print(y[2])\n",
        "plt.imshow(X[2])\n",
        "plt.show()\n",
        "print(y[3])\n",
        "plt.imshow(X[3])\n",
        "plt.show()\n",
        "print(y[4])\n",
        "plt.imshow(X[4])\n",
        "plt.show()\n",
        "print(y[5])\n",
        "plt.imshow(X[5])\n",
        "plt.show()\n",
        "print(y[6])\n",
        "plt.imshow(X[6])\n",
        "plt.show()\n",
        "print(y[7])\n",
        "plt.imshow(X[7])\n",
        "plt.show()'''"
      ]
    },
    {
      "cell_type": "code",
      "execution_count": 17,
      "metadata": {
        "colab": {
          "base_uri": "https://localhost:8080/"
        },
        "id": "NV8ofhX1EEE4",
        "outputId": "df8f2d77-6463-45ce-ab0a-bda1d8124de5"
      },
      "outputs": [
        {
          "name": "stdout",
          "output_type": "stream",
          "text": [
            "Training data shape :  (2016, 150, 250, 3) (2016,)\n",
            "Testing data shape :  (504, 150, 250, 3) (504,)\n",
            "(150, 250, 3)\n"
          ]
        }
      ],
      "source": [
        "# Dividir los datos en conjuntos de entrenamiento y prueba\n",
        "X_train, X_test, y_train, y_test = train_test_split(X, y, test_size=0.2, random_state=42)\n",
        "\n",
        "# Convertir listas a arrays NumPy\n",
        "#X_train = np.array(X_train)\n",
        "#X_test = np.array(X_test)\n",
        "\n",
        "# Normalizamos como float32 para poder dividirlos entre 0 y 1\n",
        "X_train = X_train.astype('float32')\n",
        "X_test = X_test.astype('float32')\n",
        "\n",
        "# Valores entre 0..1\n",
        "X_train /= 255\n",
        "X_test /= 255\n",
        "\n",
        "print('Training data shape : ', X_train.shape, y_train.shape)\n",
        "print('Testing data shape : ', X_test.shape, y_test.shape)\n",
        "\n",
        "img_size = X[0].shape\n",
        "print(img_size)"
      ]
    },
    {
      "cell_type": "code",
      "execution_count": 18,
      "metadata": {
        "id": "RFPqepCgYt2t"
      },
      "outputs": [],
      "source": [
        "from keras.utils import to_categorical\n",
        "\n",
        "# Codificar las etiquetas\n",
        "y_train_encoded = to_categorical(y_train, num_classes=nClasses)\n",
        "y_test_encoded = to_categorical(y_test, num_classes=nClasses)"
      ]
    },
    {
      "cell_type": "markdown",
      "metadata": {
        "id": "OUTp_jLP4LKU"
      },
      "source": [
        "# Modelos\n",
        "\n",
        "\n",
        "---\n",
        "\n"
      ]
    }
  ],
  "metadata": {
    "accelerator": "GPU",
    "colab": {
      "gpuType": "T4",
      "provenance": []
    },
    "kernelspec": {
      "display_name": "Python 3",
      "name": "python3"
    },
    "language_info": {
      "codemirror_mode": {
        "name": "ipython",
        "version": 3
      },
      "file_extension": ".py",
      "mimetype": "text/x-python",
      "name": "python",
      "nbconvert_exporter": "python",
      "pygments_lexer": "ipython3",
      "version": "3.10.0"
    }
  },
  "nbformat": 4,
  "nbformat_minor": 0
}
