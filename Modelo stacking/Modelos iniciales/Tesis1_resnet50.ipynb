{
  "cells": [
    {
      "cell_type": "code",
      "execution_count": 1,
      "metadata": {
        "id": "ohgcRnYPDfms"
      },
      "outputs": [],
      "source": [
        "import numpy as np\n",
        "import os\n",
        "import matplotlib.pyplot as plt\n",
        "from skimage.transform import resize\n",
        "from skimage.io import imread\n",
        "\n",
        "import tensorflow as tf\n",
        "\n",
        "from sklearn.ensemble import StackingClassifier\n",
        "from sklearn.linear_model import LogisticRegression\n",
        "from sklearn.metrics import accuracy_score\n",
        "from keras.models import Sequential, Model\n",
        "from keras.layers import Conv2D, MaxPooling2D, Flatten, Dense, Input, GlobalAveragePooling2D, Lambda, Reshape, multiply\n",
        "from keras.layers import Activation, Dropout, BatchNormalization, AveragePooling2D\n",
        "from keras.optimizers import Adam\n",
        "from keras.applications import ResNet50\n",
        "from keras.utils import to_categorical\n",
        "from keras import backend as K\n",
        "from keras.layers import Layer\n",
        "from sklearn.model_selection import train_test_split\n",
        "\n",
        "from keras.optimizers import RMSprop,SGD\n",
        "from keras.regularizers import l2"
      ]
    },
    {
      "cell_type": "code",
      "execution_count": 2,
      "metadata": {
        "colab": {
          "base_uri": "https://localhost:8080/"
        },
        "id": "fh0KCvgiQ1CT",
        "outputId": "dfef60bb-9910-49e7-fb49-645568f732e4"
      },
      "outputs": [
        {
          "name": "stdout",
          "output_type": "stream",
          "text": [
            "Found GPU at: /device:GPU:0\n"
          ]
        }
      ],
      "source": [
        "device_name = tf.test.gpu_device_name()\n",
        "if device_name != '/device:GPU:0':\n",
        "    raise SystemError('GPU device not found')\n",
        "print('Found GPU at: {}'.format(device_name))"
      ]
    },
    {
      "cell_type": "code",
      "execution_count": 3,
      "metadata": {},
      "outputs": [
        {
          "data": {
            "text/plain": [
              "\"physical_devices = tf.config.experimental.list_physical_devices('GPU')\\nif len(physical_devices) > 0:\\n    tf.config.experimental.set_memory_growth(physical_devices[0], True)\""
            ]
          },
          "execution_count": 3,
          "metadata": {},
          "output_type": "execute_result"
        }
      ],
      "source": [
        "'''physical_devices = tf.config.experimental.list_physical_devices('GPU')\n",
        "if len(physical_devices) > 0:\n",
        "    tf.config.experimental.set_memory_growth(physical_devices[0], True)'''"
      ]
    },
    {
      "cell_type": "code",
      "execution_count": 4,
      "metadata": {
        "id": "lz9z4T5SDh_u"
      },
      "outputs": [],
      "source": [
        "#!unzip /content/AML.zip -d /content/"
      ]
    },
    {
      "cell_type": "code",
      "execution_count": 5,
      "metadata": {
        "id": "G4ZZ46SSpfph"
      },
      "outputs": [],
      "source": [
        "#!unzip /content/CALL.zip -d /content/"
      ]
    },
    {
      "cell_type": "code",
      "execution_count": 6,
      "metadata": {
        "id": "t67jv3cU3ZKs"
      },
      "outputs": [],
      "source": [
        "#!pip install imgaug"
      ]
    },
    {
      "cell_type": "code",
      "execution_count": 7,
      "metadata": {
        "colab": {
          "base_uri": "https://localhost:8080/"
        },
        "id": "Mhucg5QjDsJh",
        "outputId": "fb0163b4-eb0d-4b47-b177-953736b308c5"
      },
      "outputs": [
        {
          "name": "stdout",
          "output_type": "stream",
          "text": [
            "leyendo imagenes de  AML/AML1\n",
            "Directorios leídos: 9\n",
            "Imágenes en cada directorio: [360, 360, 360, 360, 360, 360, 360, 360, 360]\n",
            "Suma total de imágenes en subdirectorios: 3240\n"
          ]
        },
        {
          "data": {
            "text/plain": [
              "list"
            ]
          },
          "execution_count": 7,
          "metadata": {},
          "output_type": "execute_result"
        }
      ],
      "source": [
        "# Ruta de la carpeta de descargas\n",
        "# Directorio de descargas\n",
        "download_dir = os.path.expanduser(\"AML/AML1\")  # Ruta de la carpeta de descargas\n",
        "\n",
        "# Subdirectorios dentro de la carpeta de descargas\n",
        "#subdirs = [\"M0\", \"M1\", \"M2\", \"M3\", \"M4\"]\n",
        "subdirs = [\"all\", \"M1\", \"M2\", \"M3\", \"M4\", \"M5\", \"M6\", \"M7\", \"sanos\"]\n",
        "\n",
        "# Listas para almacenar imágenes y recuentos\n",
        "images = []\n",
        "directories = []\n",
        "dircount = []\n",
        "\n",
        "# Tamaño deseado de las imágenes redimensionadas\n",
        "target_height = 150 #108, 200\n",
        "target_width = 250  #160, 300\n",
        "\n",
        "print(\"leyendo imagenes de \",download_dir)\n",
        "\n",
        "# Recorrer cada subdirectorio\n",
        "for subdir in subdirs:\n",
        "    subdir_path = os.path.join(download_dir, subdir)\n",
        "    images_count = 0\n",
        "\n",
        "    # Recorrer archivos en el subdirectorio\n",
        "    for root, _, filenames in os.walk(subdir_path):\n",
        "        for filename in filenames:\n",
        "            if filename.lower().endswith(('.jpg', '.jpeg', '.png', '.bmp', '.tiff')):\n",
        "                filepath = os.path.join(root, filename)\n",
        "\n",
        "                # Leer y redimensionar la imagen\n",
        "                image = imread(filepath)\n",
        "                image_resized = resize(image, (target_height, target_width), anti_aliasing=True, preserve_range=True)\n",
        "                images.append(image_resized)\n",
        "                #images.append(image)\n",
        "\n",
        "                images_count += 1\n",
        "\n",
        "    # Almacenar recuento y directorio\n",
        "    dircount.append(images_count)\n",
        "    directories.append(subdir)\n",
        "\n",
        "# Mostrar estadísticas finales\n",
        "print('Directorios leídos:', len(directories))\n",
        "print(\"Imágenes en cada directorio:\", dircount)\n",
        "print('Suma total de imágenes en subdirectorios:', sum(dircount))\n",
        "\n",
        "# Convertir la lista de imágenes a un array de numpy\n",
        "#images_array = np.array(images)\n",
        "'''for i in range(len(images)):\n",
        "  images[i] = np.array(images[i], dtype=np.uint8)'''\n",
        "# Convertir las imágenes a RGB\n",
        "'''for i in range(len(images)):\n",
        "  images[i] = images[i][..., :3]\n",
        "'''\n",
        "type(images)"
      ]
    },
    {
      "cell_type": "code",
      "execution_count": 8,
      "metadata": {
        "colab": {
          "base_uri": "https://localhost:8080/",
          "height": 35
        },
        "id": "NEo9ygiL0c7I",
        "outputId": "6e8ae10a-a351-4237-c617-c5557fb2ccd9"
      },
      "outputs": [
        {
          "data": {
            "text/plain": [
              "'AML/AML1'"
            ]
          },
          "execution_count": 8,
          "metadata": {},
          "output_type": "execute_result"
        }
      ],
      "source": [
        "# Directorio que contiene las imágenes\n",
        "directorio_imagenes = os.path.expanduser(\"AML/AML1\")\n",
        "directorio_imagenes"
      ]
    },
    {
      "cell_type": "markdown",
      "metadata": {
        "id": "7dZgms5W3RFb"
      },
      "source": [
        "# Nueva sección\n",
        "\n",
        "---\n",
        "\n"
      ]
    },
    {
      "cell_type": "code",
      "execution_count": 9,
      "metadata": {
        "colab": {
          "base_uri": "https://localhost:8080/"
        },
        "id": "g5YIhO_4Dw-R",
        "outputId": "2c1775dd-77f1-4f3c-d0a9-c2ad5f93f0d2"
      },
      "outputs": [
        {
          "name": "stdout",
          "output_type": "stream",
          "text": [
            "Cantidad de etiquetas creadas:  3240\n"
          ]
        }
      ],
      "source": [
        "labels = []\n",
        "indice = 0\n",
        "for cantidad in dircount:\n",
        "  for i in range(cantidad):\n",
        "    labels.append(indice)\n",
        "  indice = indice + 1\n",
        "print(\"Cantidad de etiquetas creadas: \", len(labels))"
      ]
    },
    {
      "cell_type": "code",
      "execution_count": 10,
      "metadata": {
        "colab": {
          "base_uri": "https://localhost:8080/"
        },
        "id": "3jYjrTBaD1My",
        "outputId": "78d37cd1-d1db-4ad3-b6a3-1b6b274b5bd6"
      },
      "outputs": [
        {
          "name": "stdout",
          "output_type": "stream",
          "text": [
            "0 all\n",
            "1 M1\n",
            "2 M2\n",
            "3 M3\n",
            "4 M4\n",
            "5 M5\n",
            "6 M6\n",
            "7 M7\n",
            "8 sanos\n"
          ]
        }
      ],
      "source": [
        "AMLI=[]\n",
        "indice=0\n",
        "for directorio in directories:\n",
        "    name = directorio.split(os.sep)\n",
        "    print(indice , name[len(name)-1])\n",
        "    AMLI.append(name[len(name)-1])\n",
        "    indice=indice+1"
      ]
    },
    {
      "cell_type": "code",
      "execution_count": 11,
      "metadata": {
        "colab": {
          "base_uri": "https://localhost:8080/"
        },
        "id": "ZkGpN5QQD1yP",
        "outputId": "4177a290-0ada-49a6-e413-b7897ba38f44"
      },
      "outputs": [
        {
          "data": {
            "text/plain": [
              "list"
            ]
          },
          "execution_count": 11,
          "metadata": {},
          "output_type": "execute_result"
        }
      ],
      "source": [
        "type(AMLI)"
      ]
    },
    {
      "cell_type": "code",
      "execution_count": 12,
      "metadata": {
        "colab": {
          "base_uri": "https://localhost:8080/"
        },
        "id": "BrxXspo2D3kN",
        "outputId": "47ba61a7-0bcb-47ed-aede-f286f8d60775"
      },
      "outputs": [
        {
          "data": {
            "text/plain": [
              "['all', 'M1', 'M2', 'M3', 'M4', 'M5', 'M6', 'M7', 'sanos']"
            ]
          },
          "execution_count": 12,
          "metadata": {},
          "output_type": "execute_result"
        }
      ],
      "source": [
        "AMLI"
      ]
    },
    {
      "cell_type": "code",
      "execution_count": 13,
      "metadata": {
        "id": "rGyIYoXID6fC"
      },
      "outputs": [],
      "source": [
        "#for img in images:\n",
        "    #print(img.shape)"
      ]
    },
    {
      "cell_type": "code",
      "execution_count": 14,
      "metadata": {
        "colab": {
          "base_uri": "https://localhost:8080/"
        },
        "id": "8StK0v7GD_gG",
        "outputId": "787fc6d7-eefd-45ea-e548-65e91c23c23e"
      },
      "outputs": [
        {
          "name": "stdout",
          "output_type": "stream",
          "text": [
            "Total number of outputs :  9\n",
            "Output classes :  [0 1 2 3 4 5 6 7 8]\n"
          ]
        },
        {
          "data": {
            "text/plain": [
              "numpy.ndarray"
            ]
          },
          "execution_count": 14,
          "metadata": {},
          "output_type": "execute_result"
        }
      ],
      "source": [
        "y = np.array(labels)\n",
        "#X = images\n",
        "X = np.array(images, dtype=np.uint8) #convierto de lista a numpy\n",
        "\n",
        "# Find the unique numbers from the train labels\n",
        "classes = np.unique(y)\n",
        "nClasses = len(classes)\n",
        "print('Total number of outputs : ', nClasses)\n",
        "print('Output classes : ', classes)\n",
        "type(X)"
      ]
    },
    {
      "cell_type": "code",
      "execution_count": 15,
      "metadata": {
        "colab": {
          "base_uri": "https://localhost:8080/"
        },
        "id": "NV8ofhX1EEE4",
        "outputId": "df8f2d77-6463-45ce-ab0a-bda1d8124de5"
      },
      "outputs": [
        {
          "name": "stdout",
          "output_type": "stream",
          "text": [
            "Training data shape :  (2592, 150, 250, 3) (2592,)\n",
            "Testing data shape :  (648, 150, 250, 3) (648,)\n",
            "(150, 250, 3)\n"
          ]
        }
      ],
      "source": [
        "# Dividir los datos en conjuntos de entrenamiento y prueba\n",
        "X_train, X_test, y_train, y_test = train_test_split(X, y, test_size=0.2, random_state=42)\n",
        "\n",
        "# Convertir listas a arrays NumPy\n",
        "#X_train = np.array(X_train)\n",
        "#X_test = np.array(X_test)\n",
        "\n",
        "# Normalizamos como float32 para poder dividirlos entre 0 y 1\n",
        "X_train = X_train.astype('float32')\n",
        "X_test = X_test.astype('float32')\n",
        "\n",
        "# Valores entre 0..1\n",
        "X_train /= 255\n",
        "X_test /= 255\n",
        "\n",
        "print('Training data shape : ', X_train.shape, y_train.shape)\n",
        "print('Testing data shape : ', X_test.shape, y_test.shape)\n",
        "\n",
        "img_size = X[0].shape\n",
        "print(img_size)"
      ]
    },
    {
      "cell_type": "code",
      "execution_count": 16,
      "metadata": {
        "id": "RFPqepCgYt2t"
      },
      "outputs": [],
      "source": [
        "from keras.utils import to_categorical\n",
        "\n",
        "# Codificar las etiquetas\n",
        "y_train_encoded = to_categorical(y_train, num_classes=nClasses)\n",
        "y_test_encoded = to_categorical(y_test, num_classes=nClasses)"
      ]
    },
    {
      "cell_type": "markdown",
      "metadata": {
        "id": "OUTp_jLP4LKU"
      },
      "source": [
        "# Modelos\n",
        "\n",
        "\n",
        "---\n",
        "\n"
      ]
    },
    {
      "cell_type": "code",
      "execution_count": 17,
      "metadata": {
        "id": "DyYvDnmKWOiG"
      },
      "outputs": [],
      "source": [
        "# Modelo ResNet\n",
        "resnet_model = ResNet50(weights=None, input_shape=img_size, classes=nClasses)"
      ]
    },
    {
      "cell_type": "code",
      "execution_count": 18,
      "metadata": {
        "id": "m4ET9X6yl6aV"
      },
      "outputs": [],
      "source": [
        "epochs = 20\n",
        "batch_size = 32\n",
        "train_size =2592\n",
        "\n",
        "initial_learning_rate = 0.001\n",
        "final_learning_rate = 0.00001\n",
        "learning_rate_decay_factor = (final_learning_rate / initial_learning_rate)**(1/epochs)\n",
        "steps_per_epoch = int(train_size/batch_size)\n",
        "\n",
        "lr_schedule2 = tf.keras.optimizers.schedules.ExponentialDecay(\n",
        "                initial_learning_rate=initial_learning_rate,\n",
        "                decay_steps=steps_per_epoch,\n",
        "                decay_rate=learning_rate_decay_factor,\n",
        "                staircase=True)\n",
        "# Define optimizer using the learning rate schedule\n",
        "optimizer2 = RMSprop(learning_rate=lr_schedule2)"
      ]
    },
    {
      "cell_type": "code",
      "execution_count": 19,
      "metadata": {
        "id": "VTohCJfKGHil"
      },
      "outputs": [],
      "source": [
        "resnet_model.compile(optimizer=optimizer2, loss='categorical_crossentropy', metrics=['accuracy'])"
      ]
    },
    {
      "cell_type": "code",
      "execution_count": 20,
      "metadata": {
        "id": "8L0fLwbP4vdy"
      },
      "outputs": [
        {
          "name": "stdout",
          "output_type": "stream",
          "text": [
            "Epoch 1/20\n",
            "81/81 [==============================] - 197s 2s/step - loss: 2.7749 - accuracy: 0.2346 - val_loss: 46.9418 - val_accuracy: 0.0910\n",
            "Epoch 2/20\n",
            "81/81 [==============================] - 186s 2s/step - loss: 1.7902 - accuracy: 0.3152 - val_loss: 2.9797 - val_accuracy: 0.1034\n",
            "Epoch 3/20\n",
            "81/81 [==============================] - 186s 2s/step - loss: 1.6222 - accuracy: 0.3900 - val_loss: 2.2260 - val_accuracy: 0.1157\n",
            "Epoch 4/20\n",
            "81/81 [==============================] - 163s 2s/step - loss: 1.4322 - accuracy: 0.4468 - val_loss: 2.1624 - val_accuracy: 0.3194\n",
            "Epoch 5/20\n",
            "81/81 [==============================] - 163s 2s/step - loss: 1.2844 - accuracy: 0.5120 - val_loss: 1.8291 - val_accuracy: 0.4074\n",
            "Epoch 6/20\n",
            "81/81 [==============================] - 154s 2s/step - loss: 1.1293 - accuracy: 0.5737 - val_loss: 1.7887 - val_accuracy: 0.4691\n",
            "Epoch 7/20\n",
            "81/81 [==============================] - 161s 2s/step - loss: 0.9934 - accuracy: 0.6204 - val_loss: 1.4024 - val_accuracy: 0.4923\n",
            "Epoch 8/20\n",
            "81/81 [==============================] - 157s 2s/step - loss: 0.8536 - accuracy: 0.6910 - val_loss: 1.2444 - val_accuracy: 0.5988\n",
            "Epoch 9/20\n",
            "81/81 [==============================] - 137s 2s/step - loss: 0.7036 - accuracy: 0.7419 - val_loss: 1.3272 - val_accuracy: 0.5185\n",
            "Epoch 10/20\n",
            "81/81 [==============================] - 155s 2s/step - loss: 0.5620 - accuracy: 0.8013 - val_loss: 1.0355 - val_accuracy: 0.6389\n",
            "Epoch 11/20\n",
            "81/81 [==============================] - 162s 2s/step - loss: 0.4410 - accuracy: 0.8530 - val_loss: 0.8198 - val_accuracy: 0.7207\n",
            "Epoch 12/20\n",
            "81/81 [==============================] - 163s 2s/step - loss: 0.3733 - accuracy: 0.8711 - val_loss: 0.7172 - val_accuracy: 0.7762\n",
            "Epoch 13/20\n",
            "81/81 [==============================] - 182s 2s/step - loss: 0.2903 - accuracy: 0.9032 - val_loss: 0.6275 - val_accuracy: 0.7978\n",
            "Epoch 14/20\n",
            "81/81 [==============================] - 150s 2s/step - loss: 0.2501 - accuracy: 0.9124 - val_loss: 0.7991 - val_accuracy: 0.7531\n",
            "Epoch 15/20\n",
            "81/81 [==============================] - 164s 2s/step - loss: 0.2086 - accuracy: 0.9356 - val_loss: 0.7308 - val_accuracy: 0.7793\n",
            "Epoch 16/20\n",
            "81/81 [==============================] - 156s 2s/step - loss: 0.1793 - accuracy: 0.9402 - val_loss: 0.6201 - val_accuracy: 0.8164\n",
            "Epoch 17/20\n",
            "81/81 [==============================] - 162s 2s/step - loss: 0.1414 - accuracy: 0.9564 - val_loss: 0.5126 - val_accuracy: 0.8580\n",
            "Epoch 18/20\n",
            "81/81 [==============================] - 154s 2s/step - loss: 0.1140 - accuracy: 0.9637 - val_loss: 0.5023 - val_accuracy: 0.8704\n",
            "Epoch 19/20\n",
            "81/81 [==============================] - 174s 2s/step - loss: 0.1330 - accuracy: 0.9587 - val_loss: 0.5090 - val_accuracy: 0.8688\n",
            "Epoch 20/20\n",
            "81/81 [==============================] - 155s 2s/step - loss: 0.0984 - accuracy: 0.9718 - val_loss: 0.4693 - val_accuracy: 0.8688\n"
          ]
        },
        {
          "data": {
            "text/plain": [
              "<keras.callbacks.History at 0x1fb036967d0>"
            ]
          },
          "execution_count": 20,
          "metadata": {},
          "output_type": "execute_result"
        }
      ],
      "source": [
        "resnet_model.fit(X_train, y_train_encoded, epochs=epochs, batch_size=batch_size, validation_data=(X_test, y_test_encoded))"
      ]
    },
    {
      "cell_type": "code",
      "execution_count": null,
      "metadata": {},
      "outputs": [],
      "source": [
        "resnet_model.save('resnet_model.h5')"
      ]
    }
  ],
  "metadata": {
    "accelerator": "GPU",
    "colab": {
      "gpuType": "T4",
      "provenance": []
    },
    "kernelspec": {
      "display_name": "Python 3",
      "name": "python3"
    },
    "language_info": {
      "codemirror_mode": {
        "name": "ipython",
        "version": 3
      },
      "file_extension": ".py",
      "mimetype": "text/x-python",
      "name": "python",
      "nbconvert_exporter": "python",
      "pygments_lexer": "ipython3",
      "version": "3.10.0"
    }
  },
  "nbformat": 4,
  "nbformat_minor": 0
}
